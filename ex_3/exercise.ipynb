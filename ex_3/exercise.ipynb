{
 "cells": [
  {
   "cell_type": "code",
   "execution_count": 1,
   "id": "0a2d8166",
   "metadata": {},
   "outputs": [],
   "source": [
    "import numpy as np\n",
    "import matplotlib.pyplot as plt"
   ]
  },
  {
   "cell_type": "code",
   "execution_count": 2,
   "id": "eaae1593",
   "metadata": {},
   "outputs": [],
   "source": [
    "# Define matrices to be used in the tasks:\n",
    "A = np.array([\n",
    "    [1, 0.5, 1/3, 0.25],\n",
    "    [0.5, 1/3, 0.25, 0.2],\n",
    "    [1/3, 0.25, 0.2, 1/6],\n",
    "    [0.25, 0.2, 1/6, 1/7]\n",
    "])\n",
    "\n",
    "B = np.array([\n",
    "    [-16, 15, -14, 13],\n",
    "    [-12, 11, -10, 9],\n",
    "    [-8, 7, -6, 5],\n",
    "    [-4, 3, -2, 1]\n",
    "])\n",
    "\n",
    "C = np.array([\n",
    "    [1, 1/2, 1/3, 1/4],\n",
    "    [1/2, 1/3, 1/4, 1/5],\n",
    "    [1/3, 1/5, 1/7, 1/9],\n",
    "    [1/4, 1/7, 1/8, 1/9],\n",
    "])\n",
    "\n",
    "D = np.array([\n",
    "    [2, 4, 5/2],\n",
    "    [-3/4, 2, 0.25],\n",
    "    [0.25, 0.5, 2]\n",
    "])\n",
    "\n",
    "E = np.array([\n",
    "    [1, -0.5, 3/4],\n",
    "    [3/2, 0.5, -2],\n",
    "    [0.25, 1, 0.5]\n",
    "])\n",
    "\n",
    "D_inv = np.linalg.inv(D)\n",
    "E_inv = np.linalg.inv(E)"
   ]
  },
  {
   "cell_type": "code",
   "execution_count": 3,
   "id": "9d41387a",
   "metadata": {},
   "outputs": [
    {
     "data": {
      "text/plain": [
       "array([[ 17.        , -14.5       ,  14.33333333, -12.75      ],\n",
       "       [ 12.5       , -10.66666667,  10.25      ,  -8.8       ],\n",
       "       [  8.33333333,  -6.75      ,   6.2       ,  -4.83333333],\n",
       "       [  4.25      ,  -2.8       ,   2.16666667,  -0.85714286]])"
      ]
     },
     "execution_count": 3,
     "metadata": {},
     "output_type": "execute_result"
    }
   ],
   "source": [
    "A-B"
   ]
  },
  {
   "cell_type": "code",
   "execution_count": 4,
   "id": "1d584a97",
   "metadata": {},
   "outputs": [
    {
     "name": "stdout",
     "output_type": "stream",
     "text": [
      "A@C [[1.42361111 0.8        0.56666667 0.44126984]\n",
      " [0.8        0.46361111 0.33333333 0.26190476]\n",
      " [0.50873016 0.29126984 0.20820106 0.16301587]\n",
      " [0.39087302 0.22609127 0.16256614 0.12777778]]\n",
      "dot [[1.42361111 0.76904762 0.53720238 0.41481481]\n",
      " [0.8        0.43968254 0.31071429 0.24166667]\n",
      " [0.56666667 0.31380952 0.22301587 0.17407407]\n",
      " [0.44126984 0.24540816 0.175      0.13689153]]\n",
      "A*C [[1.         0.25       0.11111111 0.0625    ]\n",
      " [0.25       0.11111111 0.0625     0.04      ]\n",
      " [0.11111111 0.05       0.02857143 0.01851852]\n",
      " [0.0625     0.02857143 0.02083333 0.01587302]]\n"
     ]
    }
   ],
   "source": [
    "print(\"A@C\", C@A)\n",
    "print(\"dot\", np.dot(A, C))\n",
    "print(\"A*C\", A*C)"
   ]
  },
  {
   "cell_type": "code",
   "execution_count": 5,
   "id": "e1d95875",
   "metadata": {},
   "outputs": [
    {
     "name": "stdout",
     "output_type": "stream",
     "text": [
      "AA**-1 [[ 1.  0.  0.  0.]\n",
      " [ 0.  1. -0.  0.]\n",
      " [ 0.  0.  1. -0.]\n",
      " [ 0. -0. -0.  1.]]\n",
      "CC**-1 [[ 1.  0.  0.  0.]\n",
      " [-0.  1.  0. -0.]\n",
      " [-0.  0.  1. -0.]\n",
      " [-0. -0. -0.  1.]]\n"
     ]
    }
   ],
   "source": [
    "print(\"AA**-1\", np.round(A@np.linalg.inv(A)))\n",
    "print(\"CC**-1\", np.round(C@np.linalg.inv(C)))"
   ]
  },
  {
   "cell_type": "code",
   "execution_count": 6,
   "id": "24835145",
   "metadata": {},
   "outputs": [
    {
     "name": "stdout",
     "output_type": "stream",
     "text": [
      "[[ 0.25261376  0.13578836 -0.51301587]\n",
      " [-0.08601058  0.11462434  0.18539683]\n",
      " [ 0.16592593 -0.18962963  0.17777778]]\n",
      "[[ 0.25261376  0.13578836 -0.51301587]\n",
      " [-0.08601058  0.11462434  0.18539683]\n",
      " [ 0.16592593 -0.18962963  0.17777778]]\n",
      "[[ 0.21096296 -0.256      -0.1517037 ]\n",
      " [-0.15365079  0.20571429  0.56634921]\n",
      " [ 0.05367196 -0.28342857  0.12833862]]\n"
     ]
    }
   ],
   "source": [
    "print(D_inv@E_inv) \n",
    "print(np.linalg.inv(E@D))\n",
    "print(np.linalg.inv(D@E))"
   ]
  },
  {
   "cell_type": "code",
   "execution_count": 7,
   "id": "5ce3deb6",
   "metadata": {},
   "outputs": [
    {
     "name": "stdout",
     "output_type": "stream",
     "text": [
      "1.6534391534393115e-07\n",
      "0.0\n",
      "1.0498026371041163e-07\n"
     ]
    }
   ],
   "source": [
    "A_det = np.linalg.det(A)\n",
    "B_det = np.linalg.det(B)\n",
    "C_det = np.linalg.det(C)\n",
    "print(A_det)\n",
    "print(B_det)\n",
    "print(C_det)"
   ]
  },
  {
   "cell_type": "code",
   "execution_count": 8,
   "id": "23a20f22",
   "metadata": {},
   "outputs": [
    {
     "ename": "LinAlgError",
     "evalue": "Singular matrix",
     "output_type": "error",
     "traceback": [
      "\u001b[31m---------------------------------------------------------------------------\u001b[39m",
      "\u001b[31mLinAlgError\u001b[39m                               Traceback (most recent call last)",
      "\u001b[36mCell\u001b[39m\u001b[36m \u001b[39m\u001b[32mIn[8]\u001b[39m\u001b[32m, line 2\u001b[39m\n\u001b[32m      1\u001b[39m A_inv = np.linalg.inv(A)\n\u001b[32m----> \u001b[39m\u001b[32m2\u001b[39m B_inv = \u001b[43mnp\u001b[49m\u001b[43m.\u001b[49m\u001b[43mlinalg\u001b[49m\u001b[43m.\u001b[49m\u001b[43minv\u001b[49m\u001b[43m(\u001b[49m\u001b[43mB\u001b[49m\u001b[43m)\u001b[49m\n\u001b[32m      3\u001b[39m C_inv = np.linalg.inv(C)\n\u001b[32m      4\u001b[39m \u001b[38;5;28mprint\u001b[39m(A_inv)\n",
      "\u001b[36mFile \u001b[39m\u001b[32m/opt/anaconda3/envs/iml/lib/python3.11/site-packages/numpy/linalg/linalg.py:561\u001b[39m, in \u001b[36minv\u001b[39m\u001b[34m(a)\u001b[39m\n\u001b[32m    559\u001b[39m signature = \u001b[33m'\u001b[39m\u001b[33mD->D\u001b[39m\u001b[33m'\u001b[39m \u001b[38;5;28;01mif\u001b[39;00m isComplexType(t) \u001b[38;5;28;01melse\u001b[39;00m \u001b[33m'\u001b[39m\u001b[33md->d\u001b[39m\u001b[33m'\u001b[39m\n\u001b[32m    560\u001b[39m extobj = get_linalg_error_extobj(_raise_linalgerror_singular)\n\u001b[32m--> \u001b[39m\u001b[32m561\u001b[39m ainv = \u001b[43m_umath_linalg\u001b[49m\u001b[43m.\u001b[49m\u001b[43minv\u001b[49m\u001b[43m(\u001b[49m\u001b[43ma\u001b[49m\u001b[43m,\u001b[49m\u001b[43m \u001b[49m\u001b[43msignature\u001b[49m\u001b[43m=\u001b[49m\u001b[43msignature\u001b[49m\u001b[43m,\u001b[49m\u001b[43m \u001b[49m\u001b[43mextobj\u001b[49m\u001b[43m=\u001b[49m\u001b[43mextobj\u001b[49m\u001b[43m)\u001b[49m\n\u001b[32m    562\u001b[39m \u001b[38;5;28;01mreturn\u001b[39;00m wrap(ainv.astype(result_t, copy=\u001b[38;5;28;01mFalse\u001b[39;00m))\n",
      "\u001b[36mFile \u001b[39m\u001b[32m/opt/anaconda3/envs/iml/lib/python3.11/site-packages/numpy/linalg/linalg.py:112\u001b[39m, in \u001b[36m_raise_linalgerror_singular\u001b[39m\u001b[34m(err, flag)\u001b[39m\n\u001b[32m    111\u001b[39m \u001b[38;5;28;01mdef\u001b[39;00m\u001b[38;5;250m \u001b[39m\u001b[34m_raise_linalgerror_singular\u001b[39m(err, flag):\n\u001b[32m--> \u001b[39m\u001b[32m112\u001b[39m     \u001b[38;5;28;01mraise\u001b[39;00m LinAlgError(\u001b[33m\"\u001b[39m\u001b[33mSingular matrix\u001b[39m\u001b[33m\"\u001b[39m)\n",
      "\u001b[31mLinAlgError\u001b[39m: Singular matrix"
     ]
    }
   ],
   "source": [
    "A_inv = np.linalg.inv(A)\n",
    "B_inv = np.linalg.inv(B)\n",
    "C_inv = np.linalg.inv(C)\n",
    "print(A_inv)\n",
    "print(B_inv)\n",
    "print(C_inv)\n",
    "\n",
    "#if the determinant is equal to 0 then there exists no inverse"
   ]
  },
  {
   "cell_type": "code",
   "execution_count": null,
   "id": "dae3d24d",
   "metadata": {},
   "outputs": [
    {
     "name": "stdout",
     "output_type": "stream",
     "text": [
      "[[ 0.32804233  0.13227513 -0.07407407]\n",
      " [-0.57142857  0.28571429  0.        ]\n",
      " [-0.33862434 -0.2010582   0.59259259]]\n",
      "[[ 0.32804233  0.13227513 -0.07407407]\n",
      " [-0.57142857  0.28571429  0.        ]\n",
      " [-0.33862434 -0.2010582   0.59259259]]\n"
     ]
    }
   ],
   "source": [
    "print(np.linalg.inv(D).T)\n",
    "print(np.linalg.inv(D.T))"
   ]
  },
  {
   "cell_type": "markdown",
   "id": "51cbff31",
   "metadata": {},
   "source": [
    "$$\n",
    "2x+3y=-1\\\\\n",
    "x+y=0\n",
    "$$\n",
    "$$\n",
    "\\begin{bmatrix}\n",
    "2&3 &| &-1\\\\\n",
    "1&1 &| &0\n",
    "\\end{bmatrix}\n",
    "$$\n",
    "Multiply row 2 with -2 and add to row 1\n",
    "$$\n",
    "\\begin{bmatrix}\n",
    "0&1 &| &-1\\\\\n",
    "1&1 &| &0\n",
    "\\end{bmatrix}\n",
    "$$\n",
    "\n",
    "Multiply row 1 with -1 and add to row 2\n",
    "$$\n",
    "\\begin{bmatrix}\n",
    "0&1 &| &-1\\\\\n",
    "1&0 &| &1\n",
    "\\end{bmatrix}\n",
    "$$\n",
    "Swap row 1 and row 2\n",
    "$$\n",
    "\\begin{bmatrix}\n",
    "1&0 &| &1\\\\\n",
    "0&1 &| &-1\n",
    "\\end{bmatrix}\n",
    "$$\n",
    "$$\n",
    "x = 1\\\\\n",
    "y = -1\n",
    "$$"
   ]
  },
  {
   "cell_type": "markdown",
   "id": "3f918bd4",
   "metadata": {},
   "source": [
    "$$\n",
    "x+0y=5\\\\\n",
    "0x+y=7\n",
    "$$\n",
    "$$\n",
    "\\begin{bmatrix}\n",
    "1&0 &| &5\\\\\n",
    "0&1 &| &7\n",
    "\\end{bmatrix}\n",
    "$$\n",
    "$$\n",
    "x = 5\\\\\n",
    "y = 7\n",
    "$$"
   ]
  },
  {
   "cell_type": "code",
   "execution_count": null,
   "id": "2b85575b",
   "metadata": {},
   "outputs": [],
   "source": []
  },
  {
   "cell_type": "markdown",
   "id": "f78988f7",
   "metadata": {},
   "source": [
    "$$\n",
    "x+-3y+3z=0.5\\\\\n",
    "x-5y+3z=0.5\\\\\n",
    "4x-6y+6z=1\n",
    "$$\n",
    "\n",
    "$$\n",
    "\\begin{bmatrix}\n",
    "1&-3&3 &| &0.5\\\\\n",
    "1&-5&3 &| &0.5\\\\\n",
    "4&-6&6 &| &1\n",
    "\\end{bmatrix}\n",
    "$$\n",
    "$$\n",
    "\\begin{bmatrix}\n",
    "1&-3&3 &| &0.5\\\\\n",
    "0&-2&0 &| &0\\\\\n",
    "4&-6&6 &| &1\n",
    "\\end{bmatrix}\n",
    "$$\n",
    "$$\n",
    "\\begin{bmatrix}\n",
    "1&-3&3 &| &0.5\\\\\n",
    "0&-2&0 &| &0\\\\\n",
    "0&6&-6 &| &-1\n",
    "\\end{bmatrix}\n",
    "$$\n",
    "$$\n",
    "\\begin{bmatrix}\n",
    "1&-3&3 &| &0.5\\\\\n",
    "0&1&0 &| &0\\\\\n",
    "0&6&-6 &| &-1\n",
    "\\end{bmatrix}\n",
    "$$\n",
    "$$\n",
    "\\begin{bmatrix}\n",
    "1&-3&3 &| &0.5\\\\\n",
    "0&1&0 &| &0\\\\\n",
    "0&0&-6 &| &-1\n",
    "\\end{bmatrix}\n",
    "$$\n",
    "$$\n",
    "\\begin{bmatrix}\n",
    "1&-3&3 &| &0.5\\\\\n",
    "0&1&0 &| &0\\\\\n",
    "0&0&1 &| &1/6\n",
    "\\end{bmatrix}\n",
    "$$\n",
    "$$\n",
    "\\begin{bmatrix}\n",
    "1&0&3 &| &0.5\\\\\n",
    "0&1&0 &| &0\\\\\n",
    "0&0&1 &| &1/6\n",
    "\\end{bmatrix}\n",
    "$$\n",
    "$$\n",
    "\\begin{bmatrix}\n",
    "1&0&0 &| &0\\\\\n",
    "0&1&0 &| &0\\\\\n",
    "0&0&1 &| &1/6\n",
    "\\end{bmatrix}\n",
    "$$"
   ]
  },
  {
   "cell_type": "markdown",
   "id": "cfe55f6d",
   "metadata": {},
   "source": [
    "$$\n",
    "2x+3y+4z=2\\\\\n",
    "x+y+4z=-2\\\\\n",
    "2x+5y+4z=3\n",
    "$$\n",
    "$$\n",
    "\\begin{bmatrix}\n",
    "2&3&4 &| &2\\\\\n",
    "1&1&4 &| &-2\\\\\n",
    "2&5&4 &| &3\n",
    "\\end{bmatrix}\n",
    "$$\n",
    "$$\n",
    "\\begin{bmatrix}\n",
    "2&3&4 &| &2\\\\\n",
    "0&-0.5&2 &| &-3\\\\\n",
    "2&5&4 &| &3\n",
    "\\end{bmatrix}\n",
    "$$\n",
    "$$\n",
    "\\begin{bmatrix}\n",
    "2&3&4 &| &2\\\\\n",
    "0&-0.5&2 &| &-3\\\\\n",
    "0&2&0 &| &1\n",
    "\\end{bmatrix}\n",
    "$$\n",
    "$$\n",
    "\\begin{bmatrix}\n",
    "2&3&4 &| &2\\\\\n",
    "0&-0.5&2 &| &-3\\\\\n",
    "0&0&8 &| &-11\n",
    "\\end{bmatrix}\n",
    "$$\n",
    "$$\n",
    "\\begin{bmatrix}\n",
    "2&3&4 &| &2\\\\\n",
    "0&-0.5&2 &| &-3\\\\\n",
    "0&0&1 &| &-11/8\n",
    "\\end{bmatrix}\n",
    "$$\n",
    "$$\n",
    "\\begin{bmatrix}\n",
    "2&3&4 &| &2\\\\\n",
    "0&-0.5&0 &| &-0.25\\\\\n",
    "0&0&1 &| &-11/8\n",
    "\\end{bmatrix}\n",
    "$$\n",
    "$$\n",
    "\\begin{bmatrix}\n",
    "2&3&4 &| &2\\\\\n",
    "0&1&0 &| &0.5\\\\\n",
    "0&0&1 &| &-11/8\n",
    "\\end{bmatrix}\n",
    "$$\n",
    "$$\n",
    "\\begin{bmatrix}\n",
    "2&0&4 &| &0.5\\\\\n",
    "0&1&0 &| &0.5\\\\\n",
    "0&0&1 &| &-11/8\n",
    "\\end{bmatrix}\n",
    "$$\n",
    "$$\n",
    "\\begin{bmatrix}\n",
    "1&0&2 &| &0.25\\\\\n",
    "0&1&0 &| &0.5\\\\\n",
    "0&0&1 &| &-11/8\n",
    "\\end{bmatrix}\n",
    "$$\n",
    "$$\n",
    "\\begin{bmatrix}\n",
    "1&0&0 &| &3\\\\\n",
    "0&1&0 &| &0.5\\\\\n",
    "0&0&1 &| &-11/8\n",
    "\\end{bmatrix}\n",
    "$$\n"
   ]
  },
  {
   "cell_type": "code",
   "execution_count": null,
   "id": "52b9bffd",
   "metadata": {},
   "outputs": [
    {
     "data": {
      "text/plain": [
       "array([ 3.   ,  0.5  , -1.375])"
      ]
     },
     "execution_count": 14,
     "metadata": {},
     "output_type": "execute_result"
    }
   ],
   "source": [
    "A = np.array([\n",
    "    [2, 3, 4],\n",
    "    [1, 1, 4],\n",
    "    [2, 5, 4]\n",
    "], dtype=float)\n",
    "B = np.array([2, -2, 3], dtype=float)\n",
    "np.linalg.solve(A, B)"
   ]
  },
  {
   "cell_type": "markdown",
   "id": "ef6e61fd",
   "metadata": {},
   "source": [
    "$$\n",
    "x+y+z=2\\\\\n",
    "2x+2y+2z=-2\\\\\n",
    "3x+3y+3z=3\n",
    "$$\n",
    "\n",
    "$$\n",
    "\\begin{bmatrix}\n",
    "1&1&1 &| &2\\\\\n",
    "2&2&2 &| &-2\\\\\n",
    "3&3&3 &| &3\\\\\n",
    "\\end{bmatrix}\n",
    "$$\n",
    "$$\n",
    "\\begin{bmatrix}\n",
    "1&1&1 &| &2\\\\\n",
    "0&0&0 &| &-4\\\\\n",
    "3&3&3 &| &3\\\\\n",
    "\\end{bmatrix}\n",
    "$$\n",
    "$$\n",
    "\\begin{bmatrix}\n",
    "1&1&1 &| &2\\\\\n",
    "0&0&0 &| &-4\\\\\n",
    "0&0&0 &| &-3\\\\\n",
    "\\end{bmatrix}\n",
    "$$\n",
    "Cannot be solved"
   ]
  },
  {
   "cell_type": "code",
   "execution_count": null,
   "id": "d618f469",
   "metadata": {},
   "outputs": [
    {
     "data": {
      "text/plain": [
       "array([-1.80143985e+16, -3.60287970e+16,  5.40431955e+16])"
      ]
     },
     "execution_count": 15,
     "metadata": {},
     "output_type": "execute_result"
    }
   ],
   "source": [
    "A = np.array([\n",
    "    [1, 1, 1],\n",
    "    [2, 2, 2],\n",
    "    [3, 3, 3]\n",
    "], dtype=float)\n",
    "B = np.array([2, -2, 3], dtype=float)\n",
    "np.linalg.solve(A, B)"
   ]
  },
  {
   "cell_type": "code",
   "execution_count": null,
   "id": "4df2f328",
   "metadata": {},
   "outputs": [
    {
     "name": "stdout",
     "output_type": "stream",
     "text": [
      "[[33, 6, 26], [78, 21, 77], [123, 36, 128]]\n",
      "[[ 33   6  26]\n",
      " [ 78  21  77]\n",
      " [123  36 128]]\n"
     ]
    }
   ],
   "source": [
    "def dotp(a, b):\n",
    "    assert len(a) == len(b)\n",
    "    return sum([i * j for (i, j) in zip(a, b)])\n",
    "\n",
    "def dim(a):\n",
    "    rows = len(a)\n",
    "    if rows == 0:\n",
    "        return [0, 0]\n",
    "    return [rows, len(a[0])]\n",
    "\n",
    "\n",
    "def col(idx, a):\n",
    "    _, cols = dim(a)\n",
    "    assert cols > idx\n",
    "    return [row[idx] for row in a]\n",
    "\n",
    "def row(idx, a):\n",
    "    rows, _ = dim(a)\n",
    "    assert rows > idx\n",
    "    return a[idx]\n",
    "\n",
    "def matmul(a, b):\n",
    "    a_rows, a_cols = dim(a)\n",
    "    b_rows, b_cols = dim(b)\n",
    "    assert a_rows == b_cols\n",
    "    return [[dotp(row(i, a), col(j, b)) for j in range(b_cols)] for i in range(a_rows)]\n",
    "\n",
    "\n",
    "ma = [\n",
    "    [1, 2, 3],\n",
    "    [4, 5, 6],\n",
    "    [7, 8, 9]\n",
    "]\n",
    "\n",
    "mb = [\n",
    "    [5, 4, 9],\n",
    "    [2, 1, 7],\n",
    "    [8, 0, 1]\n",
    "]\n",
    "\n",
    "print(matmul(ma, mb))\n",
    "\n",
    "np_ma = np.array([\n",
    "    [1, 2, 3],\n",
    "    [4, 5, 6],\n",
    "    [7, 8, 9]\n",
    "])\n",
    "\n",
    "np_mb = np.array([\n",
    "    [5, 4, 9],\n",
    "    [2, 1, 7],\n",
    "    [8, 0, 1]\n",
    "])\n",
    "\n",
    "print(np.linalg.matmul(np_ma, np_mb))"
   ]
  },
  {
   "cell_type": "code",
   "execution_count": null,
   "id": "afde7c59",
   "metadata": {},
   "outputs": [],
   "source": []
  }
 ],
 "metadata": {
  "kernelspec": {
   "display_name": "iml",
   "language": "python",
   "name": "python3"
  },
  "language_info": {
   "codemirror_mode": {
    "name": "ipython",
    "version": 3
   },
   "file_extension": ".py",
   "mimetype": "text/x-python",
   "name": "python",
   "nbconvert_exporter": "python",
   "pygments_lexer": "ipython3",
   "version": "3.11.9"
  }
 },
 "nbformat": 4,
 "nbformat_minor": 5
}
