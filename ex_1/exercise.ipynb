{
 "cells": [
  {
   "cell_type": "code",
   "execution_count": 28,
   "id": "1fe487df",
   "metadata": {},
   "outputs": [],
   "source": [
    "va = [2, 2]\n",
    "vb = [3, 4]"
   ]
  },
  {
   "cell_type": "code",
   "execution_count": 29,
   "id": "fcd22dd1",
   "metadata": {},
   "outputs": [
    {
     "name": "stdout",
     "output_type": "stream",
     "text": [
      "Lenght va: 2.8284271247461903\n",
      "Lenght vb: 5.0\n"
     ]
    }
   ],
   "source": [
    "import math\n",
    "\n",
    "\n",
    "def lenght(v: list):\n",
    "    acc = 0\n",
    "    for elm in v:\n",
    "        acc += elm**2\n",
    "\n",
    "    return acc**(1/2)\n",
    "\n",
    "\n",
    "print(\"Lenght va:\", lenght(va))\n",
    "print(\"Lenght vb:\", lenght(vb))"
   ]
  },
  {
   "cell_type": "code",
   "execution_count": 30,
   "id": "3dedef7c",
   "metadata": {},
   "outputs": [
    {
     "name": "stdout",
     "output_type": "stream",
     "text": [
      "Lenght2 va: 2.8284271247461903\n",
      "Lenght2 vb: 5.0\n"
     ]
    }
   ],
   "source": [
    "def lenght2(v):\n",
    "    return sum([elm**2 for elm in v])**(1/2)\n",
    "\n",
    "print(\"Lenght2 va:\", lenght2(va))\n",
    "print(\"Lenght2 vb:\", lenght2(vb))"
   ]
  },
  {
   "cell_type": "code",
   "execution_count": 31,
   "id": "0aaa35c0",
   "metadata": {},
   "outputs": [
    {
     "name": "stdout",
     "output_type": "stream",
     "text": [
      "Dot product: 14\n"
     ]
    }
   ],
   "source": [
    "def dotp(a, b):\n",
    "    assert len(a) == len(b)\n",
    "    return sum([i * j for (i, j) in zip(a, b)])\n",
    "\n",
    "print(\"Dot product:\", dotp(va, vb))"
   ]
  },
  {
   "cell_type": "code",
   "execution_count": 32,
   "id": "fbc308e8",
   "metadata": {},
   "outputs": [],
   "source": [
    "import numpy as np\n",
    "\n",
    "A = np.array([\n",
    "    [1, 2, 3],\n",
    "    [3, 4, 9],\n",
    "    [5, 7, 3],\n",
    "])"
   ]
  },
  {
   "cell_type": "code",
   "execution_count": 33,
   "id": "7f5d3d50",
   "metadata": {},
   "outputs": [
    {
     "data": {
      "text/plain": [
       "(3, 3)"
      ]
     },
     "execution_count": 33,
     "metadata": {},
     "output_type": "execute_result"
    }
   ],
   "source": [
    "A.shape"
   ]
  },
  {
   "cell_type": "code",
   "execution_count": 34,
   "id": "a313fc20",
   "metadata": {},
   "outputs": [
    {
     "name": "stdout",
     "output_type": "stream",
     "text": [
      "single element [1 2 3]\n",
      "vecotr of elements [2 4]\n",
      "matrix of elements\n",
      " [[1 2]\n",
      " [3 4]\n",
      " [5 7]]\n"
     ]
    }
   ],
   "source": [
    "single = A[0]\n",
    "print(\"single element\", single)\n",
    "\n",
    "vector = A[:2, 1]\n",
    "print(\"vecotr of elements\", vector)\n",
    "\n",
    "matrix = A[:, :2]\n",
    "print(\"matrix of elements\\n\", matrix)"
   ]
  },
  {
   "cell_type": "code",
   "execution_count": 35,
   "id": "eda881ad",
   "metadata": {},
   "outputs": [
    {
     "name": "stdout",
     "output_type": "stream",
     "text": [
      "single 3\n",
      "arange [[1 2]]\n"
     ]
    }
   ],
   "source": [
    "single = A[-1, -1]\n",
    "print(\"single\", single)\n",
    "\n",
    "arange = A[0:-2, 0:-1]\n",
    "print(\"arange\", arange)"
   ]
  },
  {
   "cell_type": "code",
   "execution_count": 36,
   "id": "7e91b468",
   "metadata": {},
   "outputs": [
    {
     "name": "stdout",
     "output_type": "stream",
     "text": [
      "upper right\n",
      " [[2 3]\n",
      " [4 9]]\n",
      "row [3 4 9]\n",
      "column [1 3 5]\n"
     ]
    }
   ],
   "source": [
    "ur = A[:2, 1:]\n",
    "\n",
    "print(\"upper right\\n\", ur)\n",
    "\n",
    "row = A[1]\n",
    "\n",
    "print(\"row\", row)\n",
    "\n",
    "col = A[:, 0]\n",
    "\n",
    "print(\"column\", col)"
   ]
  },
  {
   "cell_type": "code",
   "execution_count": 21,
   "id": "a916f9de",
   "metadata": {},
   "outputs": [],
   "source": [
    "ta = np.random.randint(100, size=1000000)\n",
    "tb = np.random.randint(100, size=1000000)\n",
    "\n",
    "#%timeit dotp(ta, tb)\n",
    "#%timeit np.dot(ta, tb)\n",
    "#\n",
    "#%timeit sum(ta)\n",
    "#%timeit np.sum(ta)"
   ]
  },
  {
   "cell_type": "code",
   "execution_count": 22,
   "id": "805fe2a4",
   "metadata": {},
   "outputs": [],
   "source": [
    "def lenght_np(v):\n",
    "    return np.sum(v**2)**(1/2)\n",
    "\n",
    "\n",
    "#%timeit lenght(ta)\n",
    "#%timeit lenght2(ta)\n",
    "#%timeit lenght_np(ta)\n"
   ]
  },
  {
   "cell_type": "code",
   "execution_count": 23,
   "id": "fb195981",
   "metadata": {},
   "outputs": [
    {
     "name": "stdout",
     "output_type": "stream",
     "text": [
      "1.1426035712129559\n"
     ]
    }
   ],
   "source": [
    "def angle(u, v):\n",
    "    cosine = np.dot(u, v)/(lenght_np(u)*lenght_np(v))\n",
    "    return np.arccos(cosine)\n",
    "\n",
    "a = np.array([2, 3, 4])\n",
    "b = np.array([0, -1, 2])\n",
    "\n",
    "print(angle(a, b))"
   ]
  },
  {
   "cell_type": "code",
   "execution_count": 24,
   "id": "887bf8b0",
   "metadata": {},
   "outputs": [
    {
     "name": "stdout",
     "output_type": "stream",
     "text": [
      "Euclidean distance 1.4142135623730951\n"
     ]
    }
   ],
   "source": [
    "a = np.zeros(2)\n",
    "b = np.ones(2)\n",
    "\n",
    "print(\"Euclidean distance\", lenght_np(a-b))"
   ]
  },
  {
   "cell_type": "code",
   "execution_count": 25,
   "id": "9a1e3ce0",
   "metadata": {},
   "outputs": [
    {
     "name": "stdout",
     "output_type": "stream",
     "text": [
      "[np.float64(1.0), np.float64(1.4142135623730951), np.float64(1.7320508075688772), np.float64(2.0), np.float64(2.23606797749979), np.float64(2.449489742783178), np.float64(2.6457513110645907), np.float64(2.8284271247461903), np.float64(3.0), np.float64(3.1622776601683795)]\n"
     ]
    },
    {
     "data": {
      "image/png": "[encoded data removed]",
      "text/plain": [
       "<Figure size 640x480 with 1 Axes>"
      ]
     },
     "metadata": {},
     "output_type": "display_data"
    }
   ],
   "source": [
    "import matplotlib.pyplot as plt\n",
    "\n",
    "#plt.figure(figsize=(1, 10))\n",
    "xs = np.arange(1, 11)\n",
    "ys = [lenght_np(np.zeros(i)-np.ones(i)) for i in xs]\n",
    "print(ys)\n",
    "plt.plot(xs, ys)\n",
    "plt.grid()\n",
    "plt.show()\n"
   ]
  },
  {
   "cell_type": "code",
   "execution_count": 26,
   "id": "fd27d7df",
   "metadata": {},
   "outputs": [
    {
     "data": {
      "image/png": "[encoded data removed]",
      "text/plain": [
       "<Figure size 640x480 with 1 Axes>"
      ]
     },
     "metadata": {},
     "output_type": "display_data"
    }
   ],
   "source": [
    "plt.plot(xs, xs**(1/2))\n",
    "plt.grid()\n",
    "plt.show()\n"
   ]
  },
  {
   "cell_type": "code",
   "execution_count": null,
   "id": "eabbaa9d",
   "metadata": {},
   "outputs": [],
   "source": []
  }
 ],
 "metadata": {
  "kernelspec": {
   "display_name": "iml",
   "language": "python",
   "name": "python3"
  },
  "language_info": {
   "codemirror_mode": {
    "name": "ipython",
    "version": 3
   },
   "file_extension": ".py",
   "mimetype": "text/x-python",
   "name": "python",
   "nbconvert_exporter": "python",
   "pygments_lexer": "ipython3",
   "version": "3.11.9"
  }
 },
 "nbformat": 4,
 "nbformat_minor": 5
}
